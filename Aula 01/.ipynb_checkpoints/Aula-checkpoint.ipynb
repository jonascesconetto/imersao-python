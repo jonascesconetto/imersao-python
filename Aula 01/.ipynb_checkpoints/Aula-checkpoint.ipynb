{
 "cells": [
  {
   "cell_type": "markdown",
   "metadata": {},
   "source": [
    "# Automação de Sistemas e Processos com Python\n",
    "\n",
    "### Desafio:\n",
    "\n",
    "Todos os dias, o nosso sistema atualiza as vendas do dia anterior.\n",
    "O seu trabalho diário, como analista, é enviar um e-mail para a diretoria, assim que começar a trabalhar, com o faturamento e a quantidade de produtos vendidos no dia anterior\n",
    "\n",
    "E-mail da diretoria: seugmail+diretoria@gmail.com<br>\n",
    "Local onde o sistema disponibiliza as vendas do dia anterior: https://drive.google.com/drive/folders/149xknr9JvrlEnhNWO49zPcw0PW5icxga?usp=sharing\n",
    "\n",
    "Para resolver isso, vamos usar o pyautogui, uma biblioteca de automação de comandos do mouse e do teclado"
   ]
  },
  {
   "cell_type": "markdown",
   "metadata": {},
   "source": [
    "passo a passo para resolver o desafio."
   ]
  },
  {
   "cell_type": "code",
   "execution_count": 37,
   "metadata": {},
   "outputs": [],
   "source": [
    "import pyautogui\n",
    "import time\n",
    "import pyperclip\n",
    "\n",
    "pyautogui.PAUSE = 1\n",
    "\n",
    "# passo 1\n",
    "# abrir uma nova aba\n",
    "pyautogui.hotkey('ctrl','t')\n",
    "link = 'https://ckconstrucoes.sienge.com.br/sienge/index.jsp'\n",
    "pyperclip.copy(link)\n",
    "pyautogui.hotkey('ctrl','v')\n",
    "pyautogui.press('enter')\n",
    "\n",
    "#pyautogui.press('win')\n",
    "#pyautogui.write('Chrome')\n",
    "#pyautogui.press('enter')\n",
    "\n",
    "#passo 2\n",
    "#entrar no link e navegar\n",
    "#DUPLO CLICK pyautogui.click(x,y,clicks = 2)\n",
    "\n",
    "time.sleep(2)\n",
    "pyautogui.click(-1082,407)\n",
    "login = 'methodo'\n",
    "pyperclip.copy(login)\n",
    "pyautogui.hotkey('ctrl','v')\n",
    "\n",
    "time.sleep(1)\n",
    "pyautogui.click(-1093,449)\n",
    "senha = 'methodo0155'\n",
    "pyperclip.copy(senha)\n",
    "pyautogui.hotkey('ctrl','v')\n",
    "pyautogui.press('enter')\n",
    "\n",
    "\n",
    "#passo 3 download\n",
    "#pyautogui.click(-1581,172) #clicar no menu\n",
    "time.sleep(5)\n",
    "pyautogui.click(-1448,222) #clicar em engenharia\n",
    "time.sleep(1)\n",
    "pyautogui.click(-1487,270) #clicar em orçamento\n",
    "time.sleep(1)\n",
    "pyautogui.click(-1480,305) #clicar em planilhas\n",
    "time.sleep(1)\n",
    "pyautogui.click(-1108,292) #clicar em obra\n",
    "time.sleep(1)\n",
    "obra = '34' # rooftop CK\n",
    "pyperclip.copy(obra)\n",
    "pyautogui.hotkey('ctrl','v')\n",
    "#time.sleep(1)\n",
    "pyautogui.press('enter')\n",
    "time.sleep(3)\n",
    "pyautogui.click(-168,323) #clicar em consulta\n",
    "time.sleep(3)\n",
    "pyautogui.click(-92,552) #clicar em baixar csv\n",
    "time.sleep(3)\n",
    "pyautogui.click(-498,593) #clicar em salvar\n",
    "\n",
    "#pyautogui.press('enter')\n",
    "\n",
    "\n"
   ]
  },
  {
   "cell_type": "code",
   "execution_count": 35,
   "metadata": {},
   "outputs": [
    {
     "data": {
      "text/plain": [
       "Point(x=-92, y=552)"
      ]
     },
     "execution_count": 35,
     "metadata": {},
     "output_type": "execute_result"
    }
   ],
   "source": [
    "time.sleep(6)\n",
    "pyautogui.position()"
   ]
  },
  {
   "cell_type": "markdown",
   "metadata": {},
   "source": [
    "### Vamos agora ler o arquivo baixado para pegar os indicadores\n",
    "\n",
    "- Faturamento\n",
    "- Quantidade de Produtos"
   ]
  },
  {
   "cell_type": "code",
   "execution_count": null,
   "metadata": {},
   "outputs": [],
   "source": []
  },
  {
   "cell_type": "markdown",
   "metadata": {},
   "source": [
    "### Vamos agora enviar um e-mail pelo gmail"
   ]
  },
  {
   "cell_type": "code",
   "execution_count": null,
   "metadata": {},
   "outputs": [],
   "source": []
  },
  {
   "cell_type": "markdown",
   "metadata": {},
   "source": [
    "#### Use esse código para descobrir qual a posição de um item que queira clicar\n",
    "\n",
    "- Lembre-se: a posição na sua tela é diferente da posição na minha tela"
   ]
  },
  {
   "cell_type": "code",
   "execution_count": null,
   "metadata": {},
   "outputs": [],
   "source": []
  }
 ],
 "metadata": {
  "kernelspec": {
   "display_name": "Python 3",
   "language": "python",
   "name": "python3"
  },
  "language_info": {
   "codemirror_mode": {
    "name": "ipython",
    "version": 3
   },
   "file_extension": ".py",
   "mimetype": "text/x-python",
   "name": "python",
   "nbconvert_exporter": "python",
   "pygments_lexer": "ipython3",
   "version": "3.8.8"
  }
 },
 "nbformat": 4,
 "nbformat_minor": 4
}
